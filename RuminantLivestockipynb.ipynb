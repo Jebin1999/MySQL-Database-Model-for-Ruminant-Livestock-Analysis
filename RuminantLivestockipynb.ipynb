{
    "metadata": {
        "kernelspec": {
            "name": "SQL",
            "display_name": "SQL",
            "language": "sql"
        },
        "language_info": {
            "name": "sql",
            "version": ""
        }
    },
    "nbformat_minor": 2,
    "nbformat": 4,
    "cells": [
        {
            "cell_type": "markdown",
            "source": [
                "# <span style=\"caret-color: rgb(0, 0, 0); color: rgb(0, 0, 0); font-family: -webkit-standard; font-size: medium;\">MySQL Database Model for Ruminant Livestock Analysis</span>"
            ],
            "metadata": {
                "azdata_cell_guid": "1054a322-b420-424b-bd65-010a604fd95d"
            },
            "attachments": {}
        },
        {
            "cell_type": "markdown",
            "source": [
                "### 1. **Cows Table**:\n",
                "\n",
                "This table stores basic information about each cow, such as breed, age, and lactation stage"
            ],
            "metadata": {
                "azdata_cell_guid": "24eb56e3-4cd3-4339-aa34-5381471f7077"
            },
            "attachments": {}
        },
        {
            "cell_type": "code",
            "source": [
                "CREATE TABLE cows (\n",
                "    cow_id INT PRIMARY KEY AUTO_INCREMENT,  -- Unique cow identifier\n",
                "    cow_name VARCHAR(50),                   -- Optional name for the cow\n",
                "    breed VARCHAR(50),                      -- Breed of the cow\n",
                "    birth_date DATE,                        -- Birthdate of the cow\n",
                "    lactation_stage INT,                    -- Lactation stage (e.g., 1st, 2nd, 3rd stage)\n",
                "    age INT AS (TIMESTAMPDIFF(YEAR, birth_date, CURDATE())),  -- Calculated age from birth date\n",
                "    health_status VARCHAR(100)              -- General health status (healthy, under observation, etc.)\n",
                ");\n",
                ""
            ],
            "metadata": {
                "azdata_cell_guid": "f9c1488d-3e87-433f-81cc-b924ae406a8d",
                "language": "sql"
            },
            "outputs": [],
            "execution_count": null
        },
        {
            "cell_type": "markdown",
            "source": [
                "### 2. **Feed Intake Table**:\n",
                "\n",
                "This table tracks the daily feed intake of each cow, including the amount of feed consumed and its nutritional content."
            ],
            "metadata": {
                "language": "sql",
                "azdata_cell_guid": "aca08d13-30b0-4670-ab57-a4b481e57919"
            },
            "attachments": {}
        },
        {
            "cell_type": "code",
            "source": [
                "CREATE TABLE feed_intake (\n",
                "    intake_id INT PRIMARY KEY AUTO_INCREMENT,   -- Unique feed intake record ID\n",
                "    cow_id INT,                                 -- Reference to cow ID from cows table\n",
                "    intake_date DATE,                           -- Date of feed intake\n",
                "    feed_type VARCHAR(50),                      -- Type of feed (e.g., hay, silage, concentrate)\n",
                "    amount_kg FLOAT,                            -- Amount of feed consumed in kilograms\n",
                "    protein_percent FLOAT,                      -- Protein percentage in feed\n",
                "    fat_percent FLOAT,                          -- Fat percentage in feed\n",
                "    energy_mj FLOAT,                            -- Energy content of the feed in megajoules\n",
                "    FOREIGN KEY (cow_id) REFERENCES cows(cow_id)  -- Establish relationship with cows table\n",
                ");\n",
                ""
            ],
            "metadata": {
                "language": "sql",
                "azdata_cell_guid": "5af58fb3-4c21-46c3-992d-afd4c72d529f"
            },
            "outputs": [],
            "execution_count": null
        },
        {
            "cell_type": "markdown",
            "source": [
                "### 3. **Milk Yield Table**:\n",
                "\n",
                "This table records daily milk yield for each cow, along with fat and protein content of the milk."
            ],
            "metadata": {
                "language": "sql",
                "azdata_cell_guid": "60e499d2-1b27-483e-a219-cc4323d8b6a2"
            },
            "attachments": {}
        },
        {
            "cell_type": "code",
            "source": [
                "CREATE TABLE milk_yield (\n",
                "    yield_id INT PRIMARY KEY AUTO_INCREMENT,  -- Unique milk yield record ID\n",
                "    cow_id INT,                               -- Reference to cow ID from cows table\n",
                "    yield_date DATE,                          -- Date of milk yield recording\n",
                "    milk_yield_liters FLOAT,                  -- Amount of milk produced in liters\n",
                "    fat_content_percent FLOAT,                -- Percentage of fat in the milk\n",
                "    protein_content_percent FLOAT,            -- Percentage of protein in the milk\n",
                "    FOREIGN KEY (cow_id) REFERENCES cows(cow_id)  -- Establish relationship with cows table\n",
                ");\n",
                ""
            ],
            "metadata": {
                "language": "sql",
                "azdata_cell_guid": "83752a35-7a96-47d3-b0e3-7d28c12207a8"
            },
            "outputs": [],
            "execution_count": null
        },
        {
            "cell_type": "markdown",
            "source": [
                "### 4. **Health Records Table**:\n",
                "\n",
                "This table keeps track of the cow's health status, any diseases, and treatments administered."
            ],
            "metadata": {
                "language": "sql",
                "azdata_cell_guid": "b9860dd0-6056-4852-babb-365a4ae4fadf"
            },
            "attachments": {}
        },
        {
            "cell_type": "code",
            "source": [
                "CREATE TABLE health_records (\n",
                "    health_id INT PRIMARY KEY AUTO_INCREMENT,  -- Unique health record ID\n",
                "    cow_id INT,                                -- Reference to cow ID from cows table\n",
                "    record_date DATE,                          -- Date of health record\n",
                "    temperature FLOAT,                         -- Cow's body temperature\n",
                "    heart_rate INT,                            -- Cow's heart rate\n",
                "    disease VARCHAR(100),                      -- Disease diagnosed (if any)\n",
                "    treatment VARCHAR(100),                    -- Treatment given (if any)\n",
                "    FOREIGN KEY (cow_id) REFERENCES cows(cow_id)  -- Establish relationship with cows table\n",
                ");\n",
                ""
            ],
            "metadata": {
                "language": "sql",
                "azdata_cell_guid": "cfbfd819-1c4b-4036-8c0d-18d72cba2d91"
            },
            "outputs": [],
            "execution_count": null
        },
        {
            "cell_type": "markdown",
            "source": [
                "### 5. **Feed Costs Table** :\n",
                "\n",
                "If you want to perform a feed cost optimization analysis, this table stores the cost of each feed type"
            ],
            "metadata": {
                "language": "sql",
                "azdata_cell_guid": "436967ac-a48c-4e42-b73d-d78d2a89f03e"
            },
            "attachments": {}
        },
        {
            "cell_type": "code",
            "source": [
                "CREATE TABLE feed_costs (\n",
                "    feed_type VARCHAR(50) PRIMARY KEY,  -- Type of feed (same as feed_intake feed_type)\n",
                "    cost_per_kg DECIMAL(5, 2)           -- Cost of the feed per kilogram\n",
                ");\n",
                ""
            ],
            "metadata": {
                "language": "sql",
                "azdata_cell_guid": "a47cbce2-ff25-4d0a-b817-78b5165e38dd"
            },
            "outputs": [],
            "execution_count": null
        },
        {
            "cell_type": "markdown",
            "source": [
                "### 6. **Sample Queries for Analysis**\n",
                "\n",
                "Now that the tables are set up, you can use these sample SQL queries to analyze the data.\n",
                "\n",
                "#### a. **Total Milk Yield per Cow**:\n",
                "\n",
                "This query calculates the total milk yield for each cow over a specific time period."
            ],
            "metadata": {
                "language": "sql",
                "azdata_cell_guid": "620069bd-1549-4595-8c97-0d784c29bb29"
            },
            "attachments": {}
        },
        {
            "cell_type": "code",
            "source": [
                "SELECT \n",
                "    cow_id, \n",
                "    SUM(milk_yield_liters) AS total_milk_yield \n",
                "FROM \n",
                "    milk_yield\n",
                "WHERE \n",
                "    yield_date BETWEEN '2024-01-01' AND '2024-12-31'\n",
                "GROUP BY \n",
                "    cow_id;\n",
                ""
            ],
            "metadata": {
                "language": "sql",
                "azdata_cell_guid": "245a6845-411d-4d42-86b9-de7b73870577"
            },
            "outputs": [],
            "execution_count": null
        },
        {
            "cell_type": "markdown",
            "source": [
                "#### b. **Average Feed Intake per Cow**:\n",
                "\n",
                "This query calculates the average daily feed intake for each cow, including the breakdown of protein, fat, and energy content"
            ],
            "metadata": {
                "language": "sql",
                "azdata_cell_guid": "ec2a595b-95d4-43ae-af93-c850d72545d0"
            },
            "attachments": {}
        },
        {
            "cell_type": "code",
            "source": [
                "SELECT \n",
                "    cow_id,\n",
                "    AVG(amount_kg) AS avg_feed_amount_kg,\n",
                "    AVG(protein_percent) AS avg_protein_percent,\n",
                "    AVG(fat_percent) AS avg_fat_percent,\n",
                "    AVG(energy_mj) AS avg_energy_mj\n",
                "FROM \n",
                "    feed_intake\n",
                "WHERE \n",
                "    intake_date BETWEEN '2024-01-01' AND '2024-12-31'\n",
                "GROUP BY \n",
                "    cow_id;\n",
                ""
            ],
            "metadata": {
                "language": "sql",
                "azdata_cell_guid": "306c19bd-91ed-47a8-a336-6b6aaf51eba5"
            },
            "outputs": [],
            "execution_count": null
        },
        {
            "cell_type": "markdown",
            "source": [
                "#### c. **Milk Yield Correlation with Feed Intake**:\n",
                "\n",
                "This query joins the feed intake and milk yield data to analyze the relationship between feed intake and milk yield."
            ],
            "metadata": {
                "language": "sql",
                "azdata_cell_guid": "b0c3f7d0-9d94-43d3-8b4a-b2ae92a4132c"
            },
            "attachments": {}
        },
        {
            "cell_type": "code",
            "source": [
                "SELECT \n",
                "    fi.cow_id, \n",
                "    fi.intake_date,\n",
                "    fi.amount_kg, \n",
                "    fi.protein_percent, \n",
                "    fi.fat_percent, \n",
                "    fi.energy_mj, \n",
                "    my.milk_yield_liters \n",
                "FROM \n",
                "    feed_intake fi\n",
                "JOIN \n",
                "    milk_yield my \n",
                "    ON fi.cow_id = my.cow_id AND fi.intake_date = my.yield_date;\n",
                ""
            ],
            "metadata": {
                "language": "sql",
                "azdata_cell_guid": "47ccf450-41fc-45b1-b5b3-13165b0ed971"
            },
            "outputs": [],
            "execution_count": null
        },
        {
            "cell_type": "markdown",
            "source": [
                "#### d. **Health Status Report**:\n",
                "\n",
                "This query retrieves all cows with abnormal health records, including high temperature or low milk yield."
            ],
            "metadata": {
                "language": "sql",
                "azdata_cell_guid": "8d57085b-09e3-491e-9c48-467d2d1523a5"
            },
            "attachments": {}
        },
        {
            "cell_type": "code",
            "source": [
                "SELECT \n",
                "    h.cow_id, \n",
                "    h.record_date, \n",
                "    h.temperature, \n",
                "    h.disease, \n",
                "    m.milk_yield_liters\n",
                "FROM \n",
                "    health_records h\n",
                "JOIN \n",
                "    milk_yield m \n",
                "    ON h.cow_id = m.cow_id AND h.record_date = m.yield_date\n",
                "WHERE \n",
                "    h.temperature > 39.0  -- Abnormally high temperature\n",
                "    OR m.milk_yield_liters < 10;  -- Low milk yield threshold\n",
                ""
            ],
            "metadata": {
                "language": "sql",
                "azdata_cell_guid": "5c3484ef-a30e-49b9-a245-215ef5405d73"
            },
            "outputs": [],
            "execution_count": null
        }
    ]
}